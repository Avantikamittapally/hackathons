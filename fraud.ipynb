{
 "cells": [
  {
   "cell_type": "markdown",
   "metadata": {},
   "source": [
    "# Overview of Fraud Detection\n",
    "\n",
    "Fraud is the event of illegal access or execution of a transaction. Fraud modeling is the process where large amounts of transactional data is analyzed to identify observations which do not generally follow the regular patterns. Due to this nature of the problem, anamoly detection and some classification techniques are most suited to analyze such problems and draw valuable insights. More details are available on [wiki](https://en.wikipedia.org/wiki/Data_analysis_techniques_for_fraud_detection):\n",
    "\n",
    "## Our 4-step Approach to Fraud Detection using Bayesian Networks\n",
    "\n",
    "1. Problem Statement\n",
    "2. Modeling\n",
    "3. Reporting/Inference\n",
    "4. Operationalization\n",
    "\n",
    "## 1.0 Problem Statement \n",
    "\n",
    "A company Alpha solutions provides fraud detection products, solutions and services to financial businesses. One such financial client has many credit card transactions that are provided as the training data. They want the Financial Data Scientist to build models using the available training data. \n",
    "\n",
    "## The Main AI techniques used for Fraud Detection:\n",
    "\n",
    "### Modeling & Inference\n",
    "* [Bayesian Networks](https://github.com/colaberry/refactored-datascience/blob/master/courses/Finance/FraudDetection/AnomalyDetection/1_Bayesian_Network.ipynb)\n",
    "* Nearest Neighbor Classification\n",
    "\n",
    "### Operationalization\n",
    "\n",
    "* [Operationalization - BN](https://github.com/colaberry/refactored-datascience/blob/master/courses/Finance/FraudDetection/AnomalyDetection/2_BN_Operationalization.ipynb)\n",
    "* [Operationalization - NN]()\n",
    "\n",
    "<p align=\"center\">\n",
    "  <img alt=\"Fraud Model\" src=\"../../../../images/Fraud_mod.PNG\">\n",
    "</p>"
   ]
  }
 ],
 "metadata": {
  "kernelspec": {
   "display_name": "Python 3",
   "language": "python",
   "name": "python3"
  },
  "language_info": {
   "codemirror_mode": {
    "name": "ipython",
    "version": 3
   },
   "file_extension": ".py",
   "mimetype": "text/x-python",
   "name": "python",
   "nbconvert_exporter": "python",
   "pygments_lexer": "ipython3",
   "version": "3.6.0"
  }
 },
 "nbformat": 4,
 "nbformat_minor": 2
}
